{
 "cells": [
  {
   "cell_type": "code",
   "execution_count": null,
   "metadata": {},
   "outputs": [],
   "source": [
    "import itertools\n",
    "import logging\n",
    "import os.path as osp\n",
    "import glob\n",
    "import tempfile\n",
    "\n",
    "import mmcv\n",
    "import numpy as np\n",
    "from mmcv.utils import print_log\n",
    "from terminaltables import AsciiTable\n",
    "\n",
    "from mmdet.core import eval_recalls\n",
    "from mmdet.datasets.builder import DATASETS\n",
    "from mmdet.datasets.custom import CustomDataset\n",
    "from mmdet.datasets import build_dataset, build_dataloader"
   ]
  },
  {
   "cell_type": "code",
   "execution_count": null,
   "metadata": {},
   "outputs": [],
   "source": [
    "from mmcv import Config\n",
    "\n",
    "dataset_type = 'TrafficSignDataset'\n",
    "data_root = '/home/zhanggefan/Downloads/Tencent/det/trainsplit/'\n",
    "img_norm_cfg = dict(\n",
    "    mean=[123.675, 116.28, 103.53], std=[58.395, 57.12, 57.375], to_rgb=True)\n",
    "train_pipeline = [\n",
    "    dict(type='LoadImageFromFile'),\n",
    "    dict(type='LoadAnnotations', with_bbox=True),\n",
    "    dict(type='Resize', img_scale=(600, 600), keep_ratio=False),\n",
    "    dict(type='RandomFlip', flip_ratio=0),\n",
    "    dict(type='Normalize', **img_norm_cfg),\n",
    "    dict(type='Pad', size_divisor=32),\n",
    "    dict(type='DefaultFormatBundle'),\n",
    "    dict(type='Collect', keys=['img', 'gt_bboxes', 'gt_labels']),\n",
    "]\n",
    "test_pipeline = [\n",
    "    dict(type='LoadImageFromFile'),\n",
    "    dict(\n",
    "        type='MultiScaleFlipAug',\n",
    "        img_scale=(600, 600),\n",
    "        flip=False,\n",
    "        transforms=[\n",
    "            dict(type='Resize', keep_ratio=True),\n",
    "            dict(type='RandomFlip'),\n",
    "            dict(type='Normalize', **img_norm_cfg),\n",
    "            dict(type='Pad', size_divisor=32),\n",
    "            dict(type='ImageToTensor', keys=['img']),\n",
    "            dict(type='Collect', keys=['img']),\n",
    "        ])\n",
    "]\n",
    "data = dict(\n",
    "    samples_per_gpu=2,\n",
    "    workers_per_gpu=2,\n",
    "    train=dict(\n",
    "        type=dataset_type,\n",
    "        ann_file=data_root + 'label/',\n",
    "        img_prefix=data_root + 'img/',\n",
    "        pipeline=train_pipeline))\n",
    "evaluation = dict(interval=1, metric='bbox')\n",
    "\n",
    "cfg=dict(dataset_type=dataset_type,\n",
    "         data_root=data_root,\n",
    "         img_norm_cfg=img_norm_cfg,\n",
    "         train_pipeline=train_pipeline,\n",
    "         test_pipeline=test_pipeline,\n",
    "         data=data,\n",
    "         evaluation=evaluation)\n",
    "\n",
    "cfg = Config(cfg)\n",
    "ds = build_dataset(cfg.data.train)\n",
    "data_loaders = build_dataloader(ds,1,0,dist=False)"
   ]
  },
  {
   "cell_type": "code",
   "execution_count": null,
   "metadata": {},
   "outputs": [],
   "source": [
    "def draw(fig, img, boxes):\n",
    "    ax = fig.add_subplot(111)\n",
    "    ax.invert_yaxis()\n",
    "    ax.imshow(img)\n",
    "    for rbbox in boxes:\n",
    "        x1,y1,x2,y2 = rbbox.tolist()\n",
    "        rect = plt.Rectangle((x1, y1), x2-x1, y2-y1, angle=0, linewidth=0.5,\n",
    "                             facecolor='none', edgecolor='b')\n",
    "        ax.add_patch(rect)\n",
    "        ax.plot([(x1+x2)/2], [(y1+y2)/2], '+', c='b', markersize=0.5)\n"
   ]
  },
  {
   "cell_type": "code",
   "execution_count": null,
   "metadata": {},
   "outputs": [],
   "source": [
    "import matplotlib.pyplot as plt\n",
    "\n",
    "mean = np.array(img_norm_cfg['mean'])\n",
    "std = np.array(img_norm_cfg['std'])\n",
    "\n",
    "for smp in data_loaders:\n",
    "    img = smp['img'].data[0][0].permute(1,2,0).numpy()\n",
    "    img = img*std[None,None,:]+mean[None,None,:]\n",
    "    img = img.round().astype(np.int)\n",
    "    bbox = smp['gt_bboxes'].data[0][0]\n",
    "    label = smp['gt_labels'].data[0][0]\n",
    "    \n",
    "    fig = plt.figure(dpi=200)\n",
    "    draw(fig, img, bbox)\n",
    "    plt.show()"
   ]
  },
  {
   "cell_type": "code",
   "execution_count": null,
   "metadata": {},
   "outputs": [],
   "source": []
  }
 ],
 "metadata": {
  "kernelspec": {
   "display_name": "Python 3",
   "language": "python",
   "name": "python3"
  },
  "language_info": {
   "codemirror_mode": {
    "name": "ipython",
    "version": 3
   },
   "file_extension": ".py",
   "mimetype": "text/x-python",
   "name": "python",
   "nbconvert_exporter": "python",
   "pygments_lexer": "ipython3",
   "version": "3.8.1"
  }
 },
 "nbformat": 4,
 "nbformat_minor": 4
}
