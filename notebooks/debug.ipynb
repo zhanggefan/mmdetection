{
 "cells": [
  {
   "cell_type": "code",
   "execution_count": 9,
   "metadata": {},
   "outputs": [],
   "source": [
    "ann_dir = '/home/cowa006/Documents/Tencent/det/train/label'\n",
    "img_dir = '/home/cowa006/Documents/Tencent/det/train/img'"
   ]
  },
  {
   "cell_type": "code",
   "execution_count": 19,
   "metadata": {},
   "outputs": [],
   "source": [
    "import glob\n",
    "import os.path as osp\n",
    "import pandas as pd\n",
    "import tqdm"
   ]
  },
  {
   "cell_type": "code",
   "execution_count": 11,
   "metadata": {},
   "outputs": [],
   "source": [
    "x=glob.glob(img_dir+'/*')"
   ]
  },
  {
   "cell_type": "code",
   "execution_count": 12,
   "metadata": {},
   "outputs": [],
   "source": [
    "y=glob.glob(ann_dir+'/*')"
   ]
  },
  {
   "cell_type": "code",
   "execution_count": 13,
   "metadata": {},
   "outputs": [],
   "source": [
    "mp=lambda x:osp.split(osp.splitext(x)[0])[-1]\n",
    "xm=set(map(mp, x))\n",
    "ym=set(map(mp, y))\n",
    "assert xm==ym"
   ]
  },
  {
   "cell_type": "code",
   "execution_count": 28,
   "metadata": {},
   "outputs": [
    {
     "name": "stderr",
     "output_type": "stream",
     "text": [
      "100%|██████████| 39982/39982 [00:00<00:00, 46106.89it/s]\n"
     ]
    }
   ],
   "source": [
    "i=[set() for j in range(4)]\n",
    "for yi in tqdm.tqdm(y):\n",
    "    with open(yi) as f:\n",
    "        if f.seek(0, 2)==f.seek(0, 0):\n",
    "            continue\n",
    "        s=f.readlines()\n",
    "        for si in s:\n",
    "            bbox = si[:-1].split(',')[-4:]\n",
    "            bbox = [*map(lambda x: float(x), bbox)]\n",
    "        "
   ]
  },
  {
   "cell_type": "code",
   "execution_count": 29,
   "metadata": {},
   "outputs": [
    {
     "data": {
      "text/plain": [
       "[1065.0, 256.0, 94.0, 77.0]"
      ]
     },
     "execution_count": 29,
     "metadata": {},
     "output_type": "execute_result"
    }
   ],
   "source": [
    "bbox"
   ]
  },
  {
   "cell_type": "code",
   "execution_count": null,
   "metadata": {},
   "outputs": [],
   "source": []
  }
 ],
 "metadata": {
  "kernelspec": {
   "display_name": "Python 3",
   "language": "python",
   "name": "python3"
  },
  "language_info": {
   "codemirror_mode": {
    "name": "ipython",
    "version": 3
   },
   "file_extension": ".py",
   "mimetype": "text/x-python",
   "name": "python",
   "nbconvert_exporter": "python",
   "pygments_lexer": "ipython3",
   "version": "3.8.2"
  }
 },
 "nbformat": 4,
 "nbformat_minor": 4
}
